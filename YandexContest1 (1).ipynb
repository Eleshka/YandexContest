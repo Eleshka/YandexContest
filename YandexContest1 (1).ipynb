{
  "nbformat": 4,
  "nbformat_minor": 0,
  "metadata": {
    "colab": {
      "provenance": []
    },
    "kernelspec": {
      "name": "python3",
      "display_name": "Python 3"
    },
    "language_info": {
      "name": "python"
    }
  },
  "cells": [
    {
      "cell_type": "code",
      "source": [],
      "metadata": {
        "id": "nvK4Q8NYiY0m"
      },
      "execution_count": null,
      "outputs": []
    },
    {
      "cell_type": "markdown",
      "source": [
        "1.\n",
        "N школьников делят K яблок поровну, неделяющийся остаток остается в корзинке. Сколько яблок достанется каждому школьнику?"
      ],
      "metadata": {
        "id": "goXiRboShMFK"
      }
    },
    {
      "cell_type": "code",
      "execution_count": 5,
      "metadata": {
        "colab": {
          "base_uri": "https://localhost:8080/"
        },
        "id": "wG834IrhfzF6",
        "outputId": "ae41e92a-1d3c-4a00-b536-827c30473608"
      },
      "outputs": [
        {
          "output_type": "stream",
          "name": "stdout",
          "text": [
            "5\n",
            "39\n",
            "7\n"
          ]
        }
      ],
      "source": [
        "N=int(input())\n",
        "K=int(input())\n",
        "X=K//N\n",
        "print(X)\n"
      ]
    },
    {
      "cell_type": "markdown",
      "source": [
        "2. N школьников делят K яблок поровну, неделяющийся остаток остается в корзинке. Сколько яблок останется в корзинке?"
      ],
      "metadata": {
        "id": "oYHziEW3hgoF"
      }
    },
    {
      "cell_type": "code",
      "source": [
        "N=int(input())\n",
        "K=int(input())\n",
        "X=K%N\n",
        "print(X)"
      ],
      "metadata": {
        "colab": {
          "base_uri": "https://localhost:8080/"
        },
        "id": "BbzwHBe3hu5P",
        "outputId": "cea03362-3b22-43ec-cab0-7fccf8ddd122"
      },
      "execution_count": 6,
      "outputs": [
        {
          "output_type": "stream",
          "name": "stdout",
          "text": [
            "6\n",
            "87\n",
            "3\n"
          ]
        }
      ]
    },
    {
      "cell_type": "markdown",
      "source": [
        "3. Степень двойки\n"
      ],
      "metadata": {
        "id": "UR4zhxqhiwuv"
      }
    },
    {
      "cell_type": "code",
      "source": [
        "N=int(input())\n",
        "X=2**N\n",
        "print(X)"
      ],
      "metadata": {
        "colab": {
          "base_uri": "https://localhost:8080/"
        },
        "id": "2eRV7bEMi5Ol",
        "outputId": "a16e477f-852b-42d4-96d6-25bead4a4515"
      },
      "execution_count": 7,
      "outputs": [
        {
          "output_type": "stream",
          "name": "stdout",
          "text": [
            "5\n",
            "32\n"
          ]
        }
      ]
    },
    {
      "cell_type": "markdown",
      "source": [
        "4. Последняя цифра.\n"
      ],
      "metadata": {
        "id": "BgTlLJF8jURt"
      }
    },
    {
      "cell_type": "code",
      "source": [
        "N=int(input())\n",
        "X=N%10\n",
        "print(X)"
      ],
      "metadata": {
        "colab": {
          "base_uri": "https://localhost:8080/"
        },
        "id": "yK8GzmkQjci5",
        "outputId": "509a2dff-e40a-4b05-a503-d0e7092204fc"
      },
      "execution_count": 8,
      "outputs": [
        {
          "output_type": "stream",
          "name": "stdout",
          "text": [
            "2345\n",
            "5\n"
          ]
        }
      ]
    },
    {
      "cell_type": "markdown",
      "source": [
        "5. Первая цифра двузначного числа.\n"
      ],
      "metadata": {
        "id": "Cul5ytsekMP8"
      }
    },
    {
      "cell_type": "code",
      "source": [
        "N=int(input())\n",
        "X=N//10\n",
        "print(X)"
      ],
      "metadata": {
        "colab": {
          "base_uri": "https://localhost:8080/"
        },
        "id": "tQUVTvCvkZ-G",
        "outputId": "a3825dc6-b23f-4a99-ec16-783e9eae0972"
      },
      "execution_count": 9,
      "outputs": [
        {
          "output_type": "stream",
          "name": "stdout",
          "text": [
            "23\n",
            "2\n"
          ]
        }
      ]
    },
    {
      "cell_type": "markdown",
      "source": [
        "6. Вторая справа"
      ],
      "metadata": {
        "id": "h6U4cV0wksGv"
      }
    },
    {
      "cell_type": "code",
      "source": [
        "N=int(input())\n",
        "X=(N//10)%10\n",
        "print(X)"
      ],
      "metadata": {
        "colab": {
          "base_uri": "https://localhost:8080/"
        },
        "id": "sEn7LUNVkzG0",
        "outputId": "8c344bce-9bea-48d0-a974-e293581807d8"
      },
      "execution_count": 10,
      "outputs": [
        {
          "output_type": "stream",
          "name": "stdout",
          "text": [
            "476\n",
            "7\n"
          ]
        }
      ]
    },
    {
      "cell_type": "markdown",
      "source": [
        "7. Сумма цифр трехзначного числа."
      ],
      "metadata": {
        "id": "heDIdOvFl-14"
      }
    },
    {
      "cell_type": "code",
      "source": [
        "N=int(input())\n",
        "X=(N//100)+(N//10)%10+N%10\n",
        "print(X)"
      ],
      "metadata": {
        "colab": {
          "base_uri": "https://localhost:8080/"
        },
        "id": "J5NBnHYMmDyN",
        "outputId": "d80074ef-533f-4d20-9703-6f7f37bca381"
      },
      "execution_count": 11,
      "outputs": [
        {
          "output_type": "stream",
          "name": "stdout",
          "text": [
            "876\n",
            "21\n"
          ]
        }
      ]
    },
    {
      "cell_type": "markdown",
      "source": [
        "8. Буква А 100 раз подряд"
      ],
      "metadata": {
        "id": "nMNpmWmkmkSr"
      }
    },
    {
      "cell_type": "code",
      "source": [
        "N='A'\n",
        "X=N*100\n",
        "print(X)"
      ],
      "metadata": {
        "colab": {
          "base_uri": "https://localhost:8080/"
        },
        "id": "rx_PE45omqOq",
        "outputId": "a30b9daa-a583-4496-ccd8-7b6eb69f870a"
      },
      "execution_count": 12,
      "outputs": [
        {
          "output_type": "stream",
          "name": "stdout",
          "text": [
            "AAAAAAAAAAAAAAAAAAAAAAAAAAAAAAAAAAAAAAAAAAAAAAAAAAAAAAAAAAAAAAAAAAAAAAAAAAAAAAAAAAAAAAAAAAAAAAAAAAAA\n"
          ]
        }
      ]
    },
    {
      "cell_type": "markdown",
      "source": [
        "9. Что показывают электронные часы если с начала суток прошло N минут?"
      ],
      "metadata": {
        "id": "wVuGOfXongYc"
      }
    },
    {
      "cell_type": "code",
      "source": [
        "n = int(input())\n",
        "#hours = (n // 60) % 24\n",
        "hours = (n // 60)\n",
        "minutes = n % 60\n",
        "print(hours)\n",
        "print(minutes)\n"
      ],
      "metadata": {
        "colab": {
          "base_uri": "https://localhost:8080/"
        },
        "id": "nboNvbcknpw6",
        "outputId": "1c24eee2-dca2-42f4-f64e-ccf4e1f8bfc8"
      },
      "execution_count": 22,
      "outputs": [
        {
          "output_type": "stream",
          "name": "stdout",
          "text": [
            "150\n",
            "2\n",
            "30\n"
          ]
        }
      ]
    },
    {
      "cell_type": "markdown",
      "source": [
        "Как работает код. Допустим нужно определить какое время покажут часы когда с начала суток пройдет 8952 часа. 1.\n",
        "8952\n",
        "/\n",
        "60\n",
        "=\n",
        "149\n",
        ",\n",
        "2\n",
        " но мы выполняем целочисленное деление и соответственно результатом будет просто 149 2.\n",
        "149\n",
        "/\n",
        "24\n",
        " нам нужен остаток от деления, нацело не делится, получается 6 целых и\n",
        "149\n",
        "−\n",
        "24\n",
        "∗\n",
        "6\n",
        "=\n",
        "5\n",
        " остаток.   Т.е. получается часовая стрелка сделает 6 полных оборотов, т.е. пройдет 6 суток и еще 5 часов. На часах будет 5 часов. Теперь найдем сколько покажут минут наши часы, для этого нам нужен остаток от деления данных минут на 60.Мы уже находили целое число от деления, подставив его найдем остаток\n",
        "8952\n",
        "−\n",
        "149\n",
        "∗\n",
        "60\n",
        "=\n",
        "12\n",
        "\n",
        ""
      ],
      "metadata": {
        "id": "0jGxqBUuwNpw"
      }
    },
    {
      "cell_type": "markdown",
      "source": [
        "Если делим нацело меньшее число на большее, то в остатке остается все число.\n",
        "\n",
        "\n",
        "\n",
        "\n"
      ],
      "metadata": {
        "id": "E1Eaw-1PwXCy"
      }
    }
  ]
}