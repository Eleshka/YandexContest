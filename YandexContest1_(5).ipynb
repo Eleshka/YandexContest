{
  "nbformat": 4,
  "nbformat_minor": 0,
  "metadata": {
    "colab": {
      "provenance": []
    },
    "kernelspec": {
      "name": "python3",
      "display_name": "Python 3"
    },
    "language_info": {
      "name": "python"
    }
  },
  "cells": [
    {
      "cell_type": "markdown",
      "source": [
        "0. Hello!"
      ],
      "metadata": {
        "id": "OQgtzMuF1jx7"
      }
    },
    {
      "cell_type": "code",
      "source": [
        "name=input()\n",
        "print(f'Hello, {name}!')"
      ],
      "metadata": {
        "colab": {
          "base_uri": "https://localhost:8080/"
        },
        "id": "nvK4Q8NYiY0m",
        "outputId": "4056d0fa-313c-448f-84d6-29798dae3412"
      },
      "execution_count": null,
      "outputs": [
        {
          "output_type": "stream",
          "name": "stdout",
          "text": [
            "Elesha\n",
            "Hello, Elesha!\n"
          ]
        }
      ]
    },
    {
      "cell_type": "markdown",
      "source": [
        "1.\n",
        "N школьников делят K яблок поровну, неделяющийся остаток остается в корзинке. Сколько яблок достанется каждому школьнику?"
      ],
      "metadata": {
        "id": "goXiRboShMFK"
      }
    },
    {
      "cell_type": "code",
      "execution_count": null,
      "metadata": {
        "colab": {
          "base_uri": "https://localhost:8080/"
        },
        "id": "wG834IrhfzF6",
        "outputId": "ae41e92a-1d3c-4a00-b536-827c30473608"
      },
      "outputs": [
        {
          "output_type": "stream",
          "name": "stdout",
          "text": [
            "5\n",
            "39\n",
            "7\n"
          ]
        }
      ],
      "source": [
        "N=int(input())\n",
        "K=int(input())\n",
        "X=K//N\n",
        "print(X)\n"
      ]
    },
    {
      "cell_type": "markdown",
      "source": [
        "2. N школьников делят K яблок поровну, неделяющийся остаток остается в корзинке. Сколько яблок останется в корзинке?"
      ],
      "metadata": {
        "id": "oYHziEW3hgoF"
      }
    },
    {
      "cell_type": "code",
      "source": [
        "N=int(input())\n",
        "K=int(input())\n",
        "X=K%N\n",
        "print(X)"
      ],
      "metadata": {
        "colab": {
          "base_uri": "https://localhost:8080/"
        },
        "id": "BbzwHBe3hu5P",
        "outputId": "cea03362-3b22-43ec-cab0-7fccf8ddd122"
      },
      "execution_count": null,
      "outputs": [
        {
          "output_type": "stream",
          "name": "stdout",
          "text": [
            "6\n",
            "87\n",
            "3\n"
          ]
        }
      ]
    },
    {
      "cell_type": "markdown",
      "source": [
        "3. Степень двойки\n"
      ],
      "metadata": {
        "id": "UR4zhxqhiwuv"
      }
    },
    {
      "cell_type": "code",
      "source": [
        "N=int(input())\n",
        "X=2**N\n",
        "print(X)"
      ],
      "metadata": {
        "colab": {
          "base_uri": "https://localhost:8080/"
        },
        "id": "2eRV7bEMi5Ol",
        "outputId": "a16e477f-852b-42d4-96d6-25bead4a4515"
      },
      "execution_count": null,
      "outputs": [
        {
          "output_type": "stream",
          "name": "stdout",
          "text": [
            "5\n",
            "32\n"
          ]
        }
      ]
    },
    {
      "cell_type": "markdown",
      "source": [
        "4. Последняя цифра.\n"
      ],
      "metadata": {
        "id": "BgTlLJF8jURt"
      }
    },
    {
      "cell_type": "code",
      "source": [
        "N=int(input())\n",
        "X=N%10\n",
        "print(X)"
      ],
      "metadata": {
        "colab": {
          "base_uri": "https://localhost:8080/"
        },
        "id": "yK8GzmkQjci5",
        "outputId": "509a2dff-e40a-4b05-a503-d0e7092204fc"
      },
      "execution_count": null,
      "outputs": [
        {
          "output_type": "stream",
          "name": "stdout",
          "text": [
            "2345\n",
            "5\n"
          ]
        }
      ]
    },
    {
      "cell_type": "markdown",
      "source": [
        "5. Первая цифра двузначного числа.\n"
      ],
      "metadata": {
        "id": "Cul5ytsekMP8"
      }
    },
    {
      "cell_type": "code",
      "source": [
        "N=int(input())\n",
        "X=N//10\n",
        "print(X)"
      ],
      "metadata": {
        "colab": {
          "base_uri": "https://localhost:8080/"
        },
        "id": "tQUVTvCvkZ-G",
        "outputId": "a3825dc6-b23f-4a99-ec16-783e9eae0972"
      },
      "execution_count": null,
      "outputs": [
        {
          "output_type": "stream",
          "name": "stdout",
          "text": [
            "23\n",
            "2\n"
          ]
        }
      ]
    },
    {
      "cell_type": "markdown",
      "source": [
        "6. Вторая справа"
      ],
      "metadata": {
        "id": "h6U4cV0wksGv"
      }
    },
    {
      "cell_type": "code",
      "source": [
        "N=int(input())\n",
        "X=(N//10)%10\n",
        "print(X)"
      ],
      "metadata": {
        "colab": {
          "base_uri": "https://localhost:8080/"
        },
        "id": "sEn7LUNVkzG0",
        "outputId": "8c344bce-9bea-48d0-a974-e293581807d8"
      },
      "execution_count": null,
      "outputs": [
        {
          "output_type": "stream",
          "name": "stdout",
          "text": [
            "476\n",
            "7\n"
          ]
        }
      ]
    },
    {
      "cell_type": "markdown",
      "source": [
        "7. Сумма цифр трехзначного числа."
      ],
      "metadata": {
        "id": "heDIdOvFl-14"
      }
    },
    {
      "cell_type": "code",
      "source": [
        "N=int(input())\n",
        "X=(N//100)+(N//10)%10+N%10\n",
        "print(X)"
      ],
      "metadata": {
        "colab": {
          "base_uri": "https://localhost:8080/"
        },
        "id": "J5NBnHYMmDyN",
        "outputId": "d80074ef-533f-4d20-9703-6f7f37bca381"
      },
      "execution_count": null,
      "outputs": [
        {
          "output_type": "stream",
          "name": "stdout",
          "text": [
            "876\n",
            "21\n"
          ]
        }
      ]
    },
    {
      "cell_type": "markdown",
      "source": [
        "8. Буква А 100 раз подряд"
      ],
      "metadata": {
        "id": "nMNpmWmkmkSr"
      }
    },
    {
      "cell_type": "code",
      "source": [
        "N='A'\n",
        "X=N*100\n",
        "print(X)"
      ],
      "metadata": {
        "colab": {
          "base_uri": "https://localhost:8080/"
        },
        "id": "rx_PE45omqOq",
        "outputId": "a30b9daa-a583-4496-ccd8-7b6eb69f870a"
      },
      "execution_count": null,
      "outputs": [
        {
          "output_type": "stream",
          "name": "stdout",
          "text": [
            "AAAAAAAAAAAAAAAAAAAAAAAAAAAAAAAAAAAAAAAAAAAAAAAAAAAAAAAAAAAAAAAAAAAAAAAAAAAAAAAAAAAAAAAAAAAAAAAAAAAA\n"
          ]
        }
      ]
    },
    {
      "cell_type": "markdown",
      "source": [
        "9. Что показывают электронные часы если с начала суток прошло N минут?"
      ],
      "metadata": {
        "id": "wVuGOfXongYc"
      }
    },
    {
      "cell_type": "code",
      "source": [
        "n = int(input())\n",
        "#hours = (n // 60) % 24\n",
        "hours = (n // 60)\n",
        "minutes = n % 60\n",
        "print(hours)\n",
        "print(minutes)\n"
      ],
      "metadata": {
        "colab": {
          "base_uri": "https://localhost:8080/"
        },
        "id": "nboNvbcknpw6",
        "outputId": "1c24eee2-dca2-42f4-f64e-ccf4e1f8bfc8"
      },
      "execution_count": null,
      "outputs": [
        {
          "output_type": "stream",
          "name": "stdout",
          "text": [
            "150\n",
            "2\n",
            "30\n"
          ]
        }
      ]
    },
    {
      "cell_type": "markdown",
      "source": [
        "Как работает код. Допустим нужно определить какое время покажут часы когда с начала суток пройдет 8952 часа. 1.\n",
        "8952\n",
        "/\n",
        "60\n",
        "=\n",
        "149\n",
        ",\n",
        "2\n",
        " но мы выполняем целочисленное деление и соответственно результатом будет просто 149 2.\n",
        "149\n",
        "/\n",
        "24\n",
        " нам нужен остаток от деления, нацело не делится, получается 6 целых и\n",
        "149\n",
        "−\n",
        "24\n",
        "∗\n",
        "6\n",
        "=\n",
        "5\n",
        " остаток.   Т.е. получается часовая стрелка сделает 6 полных оборотов, т.е. пройдет 6 суток и еще 5 часов. На часах будет 5 часов. Теперь найдем сколько покажут минут наши часы, для этого нам нужен остаток от деления данных минут на 60.Мы уже находили целое число от деления, подставив его найдем остаток\n",
        "8952\n",
        "−\n",
        "149\n",
        "∗\n",
        "60\n",
        "=\n",
        "12\n",
        "\n"
      ],
      "metadata": {
        "id": "0jGxqBUuwNpw"
      }
    },
    {
      "cell_type": "markdown",
      "source": [
        "Если делим нацело меньшее число на большее, то в остатке остается все число.\n",
        "\n",
        "\n",
        "https://madazimov.github.io/mathematics/ostatok-ot-deleniya.html\n",
        "\n",
        "\n"
      ],
      "metadata": {
        "id": "E1Eaw-1PwXCy"
      }
    },
    {
      "cell_type": "markdown",
      "source": [
        "10. Стоимость покупок\n",
        "Пирожок в столовой стоит A рублей и B копеек. Определите, сколько рублей и копеек нужно заплатить за N пирожков."
      ],
      "metadata": {
        "id": "mq6HjwgJxl92"
      }
    },
    {
      "cell_type": "code",
      "source": [
        "A=int(input())\n",
        "B=int(input())\n",
        "N=int(input())\n",
        "\n",
        "\n",
        "S=(A*100+B)*N\n",
        "print(S//100, S%100 )\n"
      ],
      "metadata": {
        "colab": {
          "base_uri": "https://localhost:8080/"
        },
        "id": "e8r823-PtEYN",
        "outputId": "1a31e82f-8885-417d-c150-da84e2bba2a6"
      },
      "execution_count": null,
      "outputs": [
        {
          "output_type": "stream",
          "name": "stdout",
          "text": [
            "30\n",
            "40\n",
            "33\n",
            "1003 20\n"
          ]
        }
      ]
    },
    {
      "cell_type": "markdown",
      "source": [
        "11. Следующее и предыдущее."
      ],
      "metadata": {
        "id": "uRpvHdN2yYDa"
      }
    },
    {
      "cell_type": "code",
      "source": [
        "N=int(input())\n",
        "S=N+1\n",
        "P=N-1\n",
        "print(f'The next number for the number {N} is {S}.')\n",
        "print(f'The previous number for the number {N} is {P}.')\n",
        "The next number for the number N is S.\n",
        "The previous number for the number N is P.\n"
      ],
      "metadata": {
        "colab": {
          "base_uri": "https://localhost:8080/"
        },
        "id": "7Qdxt1WwyuBS",
        "outputId": "660194d2-ee4b-48a0-a9f3-3de049bbd903"
      },
      "execution_count": null,
      "outputs": [
        {
          "output_type": "stream",
          "name": "stdout",
          "text": [
            "100\n",
            "The next number for the number 100 is 101.\n",
            "The previous number for the number 100 is 99.\n"
          ]
        }
      ]
    },
    {
      "cell_type": "markdown",
      "source": [
        "12. 0 в 1 и наоборот."
      ],
      "metadata": {
        "id": "BOgsDldZz9df"
      }
    },
    {
      "cell_type": "code",
      "source": [
        "N=int(input())\n",
        "if N==1:\n",
        "  print(0)\n",
        "elif N==0:\n",
        "  print(1)\n",
        "\n"
      ],
      "metadata": {
        "colab": {
          "base_uri": "https://localhost:8080/"
        },
        "id": "4QXeImZm0Hox",
        "outputId": "d74e656d-6e94-4038-a4bf-1142c59f050c"
      },
      "execution_count": null,
      "outputs": [
        {
          "output_type": "stream",
          "name": "stdout",
          "text": [
            "0\n",
            "1\n"
          ]
        }
      ]
    },
    {
      "cell_type": "markdown",
      "source": [
        "13.N. Следующее четное"
      ],
      "metadata": {
        "id": "CIoQcB880q61"
      }
    },
    {
      "cell_type": "code",
      "source": [
        "A=int(input())\n",
        "if A%2==0:\n",
        "  print(A+2)\n",
        "else:\n",
        "  print(A+1)"
      ],
      "metadata": {
        "colab": {
          "base_uri": "https://localhost:8080/"
        },
        "id": "ifSoiFvX2UCq",
        "outputId": "1de8f60c-3f5a-47c8-cc4e-781b45642c2d"
      },
      "execution_count": null,
      "outputs": [
        {
          "output_type": "stream",
          "name": "stdout",
          "text": [
            "13\n",
            "14\n"
          ]
        }
      ]
    },
    {
      "cell_type": "markdown",
      "source": [
        "14. O. 100 раз подряд в квадрате."
      ],
      "metadata": {
        "id": "0uIN9NP-2xBu"
      }
    },
    {
      "cell_type": "code",
      "source": [
        "N=int(input())\n",
        "# STR=str(N)*100\n",
        "# print(STR)\n",
        "S=int(str(N)*100)**2\n",
        "print(S)\n"
      ],
      "metadata": {
        "colab": {
          "base_uri": "https://localhost:8080/"
        },
        "id": "xcru79rA2zKg",
        "outputId": "c5f212f6-ea43-4ff1-891a-ded02660ce74"
      },
      "execution_count": null,
      "outputs": [
        {
          "output_type": "stream",
          "name": "stdout",
          "text": [
            "23\n",
            "539740842771145801448831751862054892357922660952963983267013570043873074176104479134782165085195388225691255994286297316600346903377206407509437812468115498418528721559024589327619630649933680236710528946025915722885419855116824813794510764207733904703601673298642995612692582389552086521783491480461177430874400571370268339965309662279359249056218753188450158147127844097541067238036935006631976329\n"
          ]
        }
      ]
    },
    {
      "cell_type": "markdown",
      "source": [
        "15. МКАД\n",
        "Программа получает на вход значение v и t. Если v > 0, то Вася движется в положительном направлении по МКАД, если же значение v < 0, то в отрицательном. (Гарантируется, что исходные числа — целые и находятся в промежутке от -1000 до +1000). Программа должна вывести целое число от 0 до 108 — номер отметки, на которой остановится Вася.\n"
      ],
      "metadata": {
        "id": "XN9y_p-w4MIh"
      }
    },
    {
      "cell_type": "code",
      "source": [
        "V=int(input())\n",
        "t=int(input())\n",
        "if V>0:\n",
        "    print(V*t%109)\n",
        "\n",
        "if V<0:\n",
        "    print(109-abs(V)*t%109)"
      ],
      "metadata": {
        "colab": {
          "base_uri": "https://localhost:8080/"
        },
        "id": "aH_PfVWP4UOK",
        "outputId": "84955f5a-8374-4dab-9038-09e8031fb8db"
      },
      "execution_count": null,
      "outputs": [
        {
          "output_type": "stream",
          "name": "stdout",
          "text": [
            "-20\n",
            "3\n",
            "49\n"
          ]
        }
      ]
    },
    {
      "cell_type": "markdown",
      "source": [
        "16. Электронные часы показывают время в формате h:mm:ss, то есть сначала записывается количество часов, потом обязательно двузначное количество минут, затем обязательно двузначное количество секунд. Количество минут и секунд при необходимости дополняются до двузначного числа нулями.\n",
        "\n",
        "С начала суток прошло N секунд. Выведите, что покажут часы."
      ],
      "metadata": {
        "id": "Y2Ed3Q8QA6Os"
      }
    },
    {
      "cell_type": "code",
      "source": [
        "N = int(input())\n",
        "#!!! Необходимо доюавить проверку на количество секунд, первышающее кол-во секунд в одних сутках!!!\n",
        "# hours = (n // 60*60) % 24\n",
        "H = str(N//(60*60))\n",
        "M = str((N % 3600) // 60)\n",
        "S = str((N % 3600) % 60)\n",
        "H = '0'+ H if len(H) == 1 else H\n",
        "M = '0' + M if len(M) == 1 else M\n",
        "S = '0' + S if len(S) == 1 else S\n",
        "\n",
        "print(f'{H}:{M}:{S}')\n"
      ],
      "metadata": {
        "id": "Vg_tbF1mDf2Q"
      },
      "execution_count": null,
      "outputs": []
    },
    {
      "cell_type": "code",
      "source": [
        "n = int(input())  # read the input\n",
        "\n",
        "hours = n // 3600  # compute the number of hours\n",
        "\n",
        "n = n % 3600  # compute the remaining seconds\n",
        "\n",
        "minutes = n // 60  # compute the number of minutes\n",
        "\n",
        "seconds = n % 60  # compute the remaining seconds\n",
        "\n",
        "# print the result in the h:mm:ss format, using zeros to supplement\n",
        "# single-digit numbers of minutes and seconds\n",
        "print(f\"{hours:02d}:{minutes:02d}:{seconds:02d}\")"
      ],
      "metadata": {
        "id": "fwV0n9T6DlN_",
        "colab": {
          "base_uri": "https://localhost:8080/"
        },
        "outputId": "795d177a-7161-48ad-9643-058b3384748d"
      },
      "execution_count": null,
      "outputs": [
        {
          "output_type": "stream",
          "name": "stdout",
          "text": [
            "200\n",
            "00:03:20\n"
          ]
        }
      ]
    },
    {
      "cell_type": "code",
      "source": [
        "n = int(input())\n",
        "h = (n // 3600) % 24\n",
        "n = n % 3600\n",
        "m = (n // 60)\n",
        "if m < 10:\n",
        "    m = \"0\" + str(m)\n",
        "s = n % 60\n",
        "if s < 10:\n",
        "    s = \"0\" + str(s)\n",
        "\n",
        "print(h, m, s, sep=':')\n",
        "# print('%d:%s:%s' % (h, m, s))"
      ],
      "metadata": {
        "id": "BwP5MYYPKMAS"
      },
      "execution_count": null,
      "outputs": []
    },
    {
      "cell_type": "markdown",
      "source": [
        "17. R. Разность времен Даны два момента времени в пределах одних и тех же суток. Для каждого момента указан час, минута и секунда. Известно, что второй момент времени наступил не раньше первого.\n",
        "\n",
        "Определите сколько секунд прошло между двумя моментами времени.\n",
        "\n",
        "Формат ввода\n",
        "Программа на вход получает шесть целых чисел через перевод строки. Первые три целых числа соответствуют часам, минутам и секундам первого момента, следующие три числа соответствуют второму моменту.\n",
        "\n",
        "Часы задаются числом от 0 до 23 включительно. Минуты и секунды – от 0 до 59."
      ],
      "metadata": {
        "id": "dpZx329FLEKj"
      }
    },
    {
      "cell_type": "code",
      "source": [
        "H1 = int(input())\n",
        "M1 = int(input())\n",
        "S1 = int(input())\n",
        "\n",
        "H2 = int(input())\n",
        "M2 = int(input())\n",
        "S2 = int(input())\n",
        "\n",
        "ts1 = H1*60*60 + M1*60 + S1\n",
        "ts2 = H2*60*60 + M2*60 + S2\n",
        "\n",
        "Time_Period = ts2-ts1\n",
        "\n",
        "print(Time_Period)\n",
        "\n"
      ],
      "metadata": {
        "id": "zzeiHA0yLGc0"
      },
      "execution_count": null,
      "outputs": []
    },
    {
      "cell_type": "markdown",
      "source": [
        "За день машина проезжает N километров. Сколько дней нужно, чтобы проехать маршут длиной M километров?"
      ],
      "metadata": {
        "id": "G4OpnlV9wSI5"
      }
    },
    {
      "cell_type": "code",
      "source": [
        "N=int(input())\n",
        "S=int(input())\n",
        "\n",
        "if S%N==0:\n",
        "    Days = S/N\n",
        "else:\n",
        "    Days = (S//N+1)\n",
        "Days=int(Days)\n",
        "print(Days)\n"
      ],
      "metadata": {
        "id": "X9xn9feRwZPd",
        "colab": {
          "base_uri": "https://localhost:8080/"
        },
        "outputId": "fff5be41-4bba-4e20-ba9b-97f98d5451a3"
      },
      "execution_count": 7,
      "outputs": [
        {
          "output_type": "stream",
          "name": "stdout",
          "text": [
            "700\n",
            "750\n",
            "2\n"
          ]
        }
      ]
    },
    {
      "cell_type": "markdown",
      "source": [
        "19 Улитка\n"
      ],
      "metadata": {
        "id": "TKjxPfBl3dkE"
      }
    },
    {
      "cell_type": "code",
      "source": [
        "# неверно\n",
        "H = int(input(\"Высота столба : \"))\n",
        "A = int(input(\"Пробег вверх за день : \"))\n",
        "B = int(input(\"Пробег вниз за ночь : \"))\n",
        "\n",
        "h_remain = H - A # остаток высоты столба после подъёма за день\n",
        "d_day = A - B    # расстояние, на которое поднимется улитка за сутки\n",
        "days = (h_remain - 1) // d_day + 1 + 1  # второе +1 здесь эмулирует округление вверх\n",
        "# или более сложная\n",
        "# days = 1 + (h_remain // d_day) + (h_remain % d_day + d_day - 1) // d_day"
      ],
      "metadata": {
        "id": "PQl2A-Ro3iYM"
      },
      "execution_count": null,
      "outputs": []
    },
    {
      "cell_type": "markdown",
      "source": [
        "Задача имеет несколько вариантов решения. Рассмотрим первый вариант.\n",
        "\n",
        "Вариант решения №1. Обозначим искомое кол-во дней через t. Давайте рассматривать отдельно подьем и спуск. Тогда за все дни t улитка поднимится на высоту a * t, а за все ночи опустится на расстояние b * (t - 1).  Множитель t - 1 используем потому, что как только улитка достигнет вершины днем, она уже не будет спускаться следующей ночью. Составим следующее неравенство и выразим из него переменную t:\n",
        "\n",
        "a * t - b * (t - 1) > h\n",
        "\n",
        "(a - b) * t > h - b\n",
        "\n",
        "t > (h - b) / (a - b)"
      ],
      "metadata": {
        "id": "q0wuJyzc4P7I"
      }
    },
    {
      "cell_type": "code",
      "source": [
        "#верно\n",
        "from math import ceil\n",
        "H = int(input())\n",
        "A = int(input())\n",
        "B = int(input())\n",
        "\n",
        "days=ceil((H-A)/(A-B))+1\n",
        "print(days)"
      ],
      "metadata": {
        "colab": {
          "base_uri": "https://localhost:8080/"
        },
        "id": "iKmzsazP7wxL",
        "outputId": "ffa2b8cb-61c0-4547-d1a1-81c9c92a2d55"
      },
      "execution_count": 10,
      "outputs": [
        {
          "output_type": "stream",
          "name": "stdout",
          "text": [
            "15\n",
            "4\n",
            "2\n",
            "7\n"
          ]
        }
      ]
    },
    {
      "cell_type": "markdown",
      "source": [
        "20 Симметричное число\n",
        "\n",
        "Дано четырехзначное число. Определите, является ли его десятичная запись симметричной. Если число симметричное, то выведите 1, иначе выведите любое другое целое число. Число может иметь меньше четырех знаков, тогда нужно считать, что его десятичная запись дополняется слева незначащими нулями."
      ],
      "metadata": {
        "id": "pCOjkMVo-DcP"
      }
    },
    {
      "cell_type": "code",
      "source": [
        "N=int(input())\n",
        "\n",
        "if N//1000 == N%10 and (N//100)%10 == (N%100)//10:\n",
        "    print(1)\n",
        "else:\n",
        "    print(3)"
      ],
      "metadata": {
        "colab": {
          "base_uri": "https://localhost:8080/"
        },
        "id": "0NRYuRig_e-O",
        "outputId": "b348cd52-b951-4f6f-f054-ef7b2c14fa53"
      },
      "execution_count": 13,
      "outputs": [
        {
          "output_type": "stream",
          "name": "stdout",
          "text": [
            "2233\n",
            "3\n"
          ]
        }
      ]
    },
    {
      "cell_type": "markdown",
      "source": [
        "21. Максимум из двух*"
      ],
      "metadata": {
        "id": "sgCgjpqxAfMN"
      }
    },
    {
      "cell_type": "code",
      "source": [
        "X=int(input())\n",
        "Y=int(input())\n",
        "max_num=(X+Y+abs(X-Y))/2\n",
        "max_num=int(max_num)\n",
        "print(max_num)"
      ],
      "metadata": {
        "colab": {
          "base_uri": "https://localhost:8080/"
        },
        "id": "kyUUThEWDbP_",
        "outputId": "5e91ad55-3528-4101-8f05-fa6f252034d5"
      },
      "execution_count": 16,
      "outputs": [
        {
          "output_type": "stream",
          "name": "stdout",
          "text": [
            "8\n",
            "6\n",
            "8\n"
          ]
        }
      ]
    },
    {
      "cell_type": "markdown",
      "source": [
        "22. Делимость чисел."
      ],
      "metadata": {
        "id": "GUvb-ScmExFc"
      }
    },
    {
      "cell_type": "code",
      "source": [
        "a = int(input())\n",
        "b = int(input())\n",
        "print('YES' * int(a % b == 0) or 'NO' * int(a % b != 0))"
      ],
      "metadata": {
        "colab": {
          "base_uri": "https://localhost:8080/"
        },
        "id": "PTuXZnAKE1rB",
        "outputId": "2e520dfc-0d6a-4006-994f-ad9aa7c390f4"
      },
      "execution_count": 17,
      "outputs": [
        {
          "output_type": "stream",
          "name": "stdout",
          "text": [
            "5\n",
            "3\n",
            "NO\n"
          ]
        }
      ]
    },
    {
      "cell_type": "markdown",
      "source": [
        "23. Пингвины\n"
      ],
      "metadata": {
        "id": "Lg5IOJo2FO85"
      }
    },
    {
      "cell_type": "code",
      "source": [
        "n = int(input())\n",
        "print(\"   _~_    \" * n)\n",
        "print(\"  (o o)   \" * n)\n",
        "print(\" /  V  \\\\  \" * n)\n",
        "print(\"/(  _  )\\\\ \" * n)\n",
        "print(\"  ^^ ^^   \" * n)"
      ],
      "metadata": {
        "colab": {
          "base_uri": "https://localhost:8080/"
        },
        "id": "j7FA_805FRQh",
        "outputId": "7637149b-e4ad-48e0-d65f-8371ca7ea92f"
      },
      "execution_count": 21,
      "outputs": [
        {
          "output_type": "stream",
          "name": "stdout",
          "text": [
            "10\n",
            "   _~_       _~_       _~_       _~_       _~_       _~_       _~_       _~_       _~_       _~_    \n",
            "  (o o)     (o o)     (o o)     (o o)     (o o)     (o o)     (o o)     (o o)     (o o)     (o o)   \n",
            " /  V  \\   /  V  \\   /  V  \\   /  V  \\   /  V  \\   /  V  \\   /  V  \\   /  V  \\   /  V  \\   /  V  \\  \n",
            "/(  _  )\\ /(  _  )\\ /(  _  )\\ /(  _  )\\ /(  _  )\\ /(  _  )\\ /(  _  )\\ /(  _  )\\ /(  _  )\\ /(  _  )\\ \n",
            "  ^^ ^^     ^^ ^^     ^^ ^^     ^^ ^^     ^^ ^^     ^^ ^^     ^^ ^^     ^^ ^^     ^^ ^^     ^^ ^^   \n"
          ]
        }
      ]
    }
  ]
}